{
  "cells": [
    {
      "cell_type": "code",
      "execution_count": null,
      "metadata": {
        "colab": {
          "base_uri": "https://localhost:8080/"
        },
        "collapsed": true,
        "id": "HtHZbOtbq9ud",
        "outputId": "6eed858e-c2ca-4bf4-8084-1a7d7d8263e1"
      },
      "outputs": [
        {
          "output_type": "stream",
          "name": "stdout",
          "text": [
            "Collecting swig\n",
            "  Downloading swig-4.3.0-py2.py3-none-manylinux_2_5_x86_64.manylinux1_x86_64.whl.metadata (3.5 kB)\n",
            "Downloading swig-4.3.0-py2.py3-none-manylinux_2_5_x86_64.manylinux1_x86_64.whl (1.9 MB)\n",
            "\u001b[?25l   \u001b[90m━━━━━━━━━━━━━━━━━━━━━━━━━━━━━━━━━━━━━━━━\u001b[0m \u001b[32m0.0/1.9 MB\u001b[0m \u001b[31m?\u001b[0m eta \u001b[36m-:--:--\u001b[0m\r\u001b[2K   \u001b[91m━━━━━━━━━━━\u001b[0m\u001b[91m╸\u001b[0m\u001b[90m━━━━━━━━━━━━━━━━━━━━━━━━━━━━\u001b[0m \u001b[32m0.6/1.9 MB\u001b[0m \u001b[31m16.4 MB/s\u001b[0m eta \u001b[36m0:00:01\u001b[0m\r\u001b[2K   \u001b[91m━━━━━━━━━━━━━━━━━━━━━━━━━━━━━━━━━━━━━━━\u001b[0m\u001b[91m╸\u001b[0m \u001b[32m1.9/1.9 MB\u001b[0m \u001b[31m33.0 MB/s\u001b[0m eta \u001b[36m0:00:01\u001b[0m\r\u001b[2K   \u001b[90m━━━━━━━━━━━━━━━━━━━━━━━━━━━━━━━━━━━━━━━━\u001b[0m \u001b[32m1.9/1.9 MB\u001b[0m \u001b[31m18.3 MB/s\u001b[0m eta \u001b[36m0:00:00\u001b[0m\n",
            "\u001b[?25hInstalling collected packages: swig\n",
            "Successfully installed swig-4.3.0\n",
            "Collecting gymnasium[box2d]\n",
            "  Downloading gymnasium-1.0.0-py3-none-any.whl.metadata (9.5 kB)\n",
            "Requirement already satisfied: numpy>=1.21.0 in /usr/local/lib/python3.10/dist-packages (from gymnasium[box2d]) (1.26.4)\n",
            "Requirement already satisfied: cloudpickle>=1.2.0 in /usr/local/lib/python3.10/dist-packages (from gymnasium[box2d]) (3.1.0)\n",
            "Requirement already satisfied: typing-extensions>=4.3.0 in /usr/local/lib/python3.10/dist-packages (from gymnasium[box2d]) (4.12.2)\n",
            "Collecting farama-notifications>=0.0.1 (from gymnasium[box2d])\n",
            "  Downloading Farama_Notifications-0.0.4-py3-none-any.whl.metadata (558 bytes)\n",
            "Collecting box2d-py==2.3.5 (from gymnasium[box2d])\n",
            "  Downloading box2d-py-2.3.5.tar.gz (374 kB)\n",
            "\u001b[2K     \u001b[90m━━━━━━━━━━━━━━━━━━━━━━━━━━━━━━━━━━━━━━━━\u001b[0m \u001b[32m374.4/374.4 kB\u001b[0m \u001b[31m7.6 MB/s\u001b[0m eta \u001b[36m0:00:00\u001b[0m\n",
            "\u001b[?25h  Preparing metadata (setup.py) ... \u001b[?25l\u001b[?25hdone\n",
            "Requirement already satisfied: pygame>=2.1.3 in /usr/local/lib/python3.10/dist-packages (from gymnasium[box2d]) (2.6.1)\n",
            "Requirement already satisfied: swig==4.* in /usr/local/lib/python3.10/dist-packages (from gymnasium[box2d]) (4.3.0)\n",
            "Downloading Farama_Notifications-0.0.4-py3-none-any.whl (2.5 kB)\n",
            "Downloading gymnasium-1.0.0-py3-none-any.whl (958 kB)\n",
            "\u001b[2K   \u001b[90m━━━━━━━━━━━━━━━━━━━━━━━━━━━━━━━━━━━━━━━━\u001b[0m \u001b[32m958.1/958.1 kB\u001b[0m \u001b[31m38.4 MB/s\u001b[0m eta \u001b[36m0:00:00\u001b[0m\n",
            "\u001b[?25hBuilding wheels for collected packages: box2d-py\n",
            "  Building wheel for box2d-py (setup.py) ... \u001b[?25l\u001b[?25hdone\n",
            "  Created wheel for box2d-py: filename=box2d_py-2.3.5-cp310-cp310-linux_x86_64.whl size=2376473 sha256=1233881b547c13cef3318c8495c5c52c1b1f56dd7065b961ccec59f721a0770b\n",
            "  Stored in directory: /root/.cache/pip/wheels/db/8f/6a/eaaadf056fba10a98d986f6dce954e6201ba3126926fc5ad9e\n",
            "Successfully built box2d-py\n",
            "Installing collected packages: farama-notifications, box2d-py, gymnasium\n",
            "Successfully installed box2d-py-2.3.5 farama-notifications-0.0.4 gymnasium-1.0.0\n",
            "Requirement already satisfied: gymnasium[all] in /usr/local/lib/python3.10/dist-packages (1.0.0)\n",
            "Requirement already satisfied: numpy>=1.21.0 in /usr/local/lib/python3.10/dist-packages (from gymnasium[all]) (1.26.4)\n",
            "Requirement already satisfied: cloudpickle>=1.2.0 in /usr/local/lib/python3.10/dist-packages (from gymnasium[all]) (3.1.0)\n",
            "Requirement already satisfied: typing-extensions>=4.3.0 in /usr/local/lib/python3.10/dist-packages (from gymnasium[all]) (4.12.2)\n",
            "Requirement already satisfied: farama-notifications>=0.0.1 in /usr/local/lib/python3.10/dist-packages (from gymnasium[all]) (0.0.4)\n",
            "Collecting ale-py>=0.9 (from gymnasium[all])\n",
            "  Downloading ale_py-0.10.1-cp310-cp310-manylinux_2_17_x86_64.manylinux2014_x86_64.whl.metadata (7.6 kB)\n",
            "Requirement already satisfied: box2d-py==2.3.5 in /usr/local/lib/python3.10/dist-packages (from gymnasium[all]) (2.3.5)\n",
            "Requirement already satisfied: pygame>=2.1.3 in /usr/local/lib/python3.10/dist-packages (from gymnasium[all]) (2.6.1)\n",
            "Requirement already satisfied: swig==4.* in /usr/local/lib/python3.10/dist-packages (from gymnasium[all]) (4.3.0)\n",
            "Collecting mujoco-py<2.2,>=2.1 (from gymnasium[all])\n",
            "  Downloading mujoco_py-2.1.2.14-py3-none-any.whl.metadata (669 bytes)\n",
            "Collecting cython<3 (from gymnasium[all])\n",
            "  Downloading Cython-0.29.37-cp310-cp310-manylinux_2_17_x86_64.manylinux2014_x86_64.manylinux_2_24_x86_64.whl.metadata (3.1 kB)\n",
            "Collecting mujoco>=2.1.5 (from gymnasium[all])\n",
            "  Downloading mujoco-3.2.6-cp310-cp310-manylinux_2_17_x86_64.manylinux2014_x86_64.whl.metadata (44 kB)\n",
            "\u001b[2K     \u001b[90m━━━━━━━━━━━━━━━━━━━━━━━━━━━━━━━━━━━━━━━━\u001b[0m \u001b[32m44.4/44.4 kB\u001b[0m \u001b[31m2.3 MB/s\u001b[0m eta \u001b[36m0:00:00\u001b[0m\n",
            "\u001b[?25hRequirement already satisfied: imageio>=2.14.1 in /usr/local/lib/python3.10/dist-packages (from gymnasium[all]) (2.36.1)\n",
            "Requirement already satisfied: jax>=0.4.0 in /usr/local/lib/python3.10/dist-packages (from gymnasium[all]) (0.4.33)\n",
            "Requirement already satisfied: jaxlib>=0.4.0 in /usr/local/lib/python3.10/dist-packages (from gymnasium[all]) (0.4.33)\n",
            "Requirement already satisfied: flax>=0.5.0 in /usr/local/lib/python3.10/dist-packages (from gymnasium[all]) (0.8.5)\n",
            "Requirement already satisfied: torch>=1.0.0 in /usr/local/lib/python3.10/dist-packages (from gymnasium[all]) (2.5.1+cu121)\n",
            "Requirement already satisfied: opencv-python>=3.0 in /usr/local/lib/python3.10/dist-packages (from gymnasium[all]) (4.10.0.84)\n",
            "Requirement already satisfied: matplotlib>=3.0 in /usr/local/lib/python3.10/dist-packages (from gymnasium[all]) (3.8.0)\n",
            "Requirement already satisfied: moviepy>=1.0.0 in /usr/local/lib/python3.10/dist-packages (from gymnasium[all]) (1.0.3)\n",
            "Requirement already satisfied: msgpack in /usr/local/lib/python3.10/dist-packages (from flax>=0.5.0->gymnasium[all]) (1.1.0)\n",
            "Requirement already satisfied: optax in /usr/local/lib/python3.10/dist-packages (from flax>=0.5.0->gymnasium[all]) (0.2.4)\n",
            "Requirement already satisfied: orbax-checkpoint in /usr/local/lib/python3.10/dist-packages (from flax>=0.5.0->gymnasium[all]) (0.6.4)\n",
            "Requirement already satisfied: tensorstore in /usr/local/lib/python3.10/dist-packages (from flax>=0.5.0->gymnasium[all]) (0.1.71)\n",
            "Requirement already satisfied: rich>=11.1 in /usr/local/lib/python3.10/dist-packages (from flax>=0.5.0->gymnasium[all]) (13.9.4)\n",
            "Requirement already satisfied: PyYAML>=5.4.1 in /usr/local/lib/python3.10/dist-packages (from flax>=0.5.0->gymnasium[all]) (6.0.2)\n",
            "Requirement already satisfied: pillow>=8.3.2 in /usr/local/lib/python3.10/dist-packages (from imageio>=2.14.1->gymnasium[all]) (11.0.0)\n",
            "Requirement already satisfied: ml-dtypes>=0.2.0 in /usr/local/lib/python3.10/dist-packages (from jax>=0.4.0->gymnasium[all]) (0.4.1)\n",
            "Requirement already satisfied: opt-einsum in /usr/local/lib/python3.10/dist-packages (from jax>=0.4.0->gymnasium[all]) (3.4.0)\n",
            "Requirement already satisfied: scipy>=1.10 in /usr/local/lib/python3.10/dist-packages (from jax>=0.4.0->gymnasium[all]) (1.13.1)\n",
            "Requirement already satisfied: contourpy>=1.0.1 in /usr/local/lib/python3.10/dist-packages (from matplotlib>=3.0->gymnasium[all]) (1.3.1)\n",
            "Requirement already satisfied: cycler>=0.10 in /usr/local/lib/python3.10/dist-packages (from matplotlib>=3.0->gymnasium[all]) (0.12.1)\n",
            "Requirement already satisfied: fonttools>=4.22.0 in /usr/local/lib/python3.10/dist-packages (from matplotlib>=3.0->gymnasium[all]) (4.55.3)\n",
            "Requirement already satisfied: kiwisolver>=1.0.1 in /usr/local/lib/python3.10/dist-packages (from matplotlib>=3.0->gymnasium[all]) (1.4.7)\n",
            "Requirement already satisfied: packaging>=20.0 in /usr/local/lib/python3.10/dist-packages (from matplotlib>=3.0->gymnasium[all]) (24.2)\n",
            "Requirement already satisfied: pyparsing>=2.3.1 in /usr/local/lib/python3.10/dist-packages (from matplotlib>=3.0->gymnasium[all]) (3.2.0)\n",
            "Requirement already satisfied: python-dateutil>=2.7 in /usr/local/lib/python3.10/dist-packages (from matplotlib>=3.0->gymnasium[all]) (2.8.2)\n",
            "Requirement already satisfied: decorator<5.0,>=4.0.2 in /usr/local/lib/python3.10/dist-packages (from moviepy>=1.0.0->gymnasium[all]) (4.4.2)\n",
            "Requirement already satisfied: imageio_ffmpeg>=0.2.0 in /usr/local/lib/python3.10/dist-packages (from moviepy>=1.0.0->gymnasium[all]) (0.5.1)\n",
            "Requirement already satisfied: tqdm<5.0,>=4.11.2 in /usr/local/lib/python3.10/dist-packages (from moviepy>=1.0.0->gymnasium[all]) (4.67.1)\n",
            "Requirement already satisfied: requests<3.0,>=2.8.1 in /usr/local/lib/python3.10/dist-packages (from moviepy>=1.0.0->gymnasium[all]) (2.32.3)\n",
            "Requirement already satisfied: proglog<=1.0.0 in /usr/local/lib/python3.10/dist-packages (from moviepy>=1.0.0->gymnasium[all]) (0.1.10)\n",
            "Requirement already satisfied: absl-py in /usr/local/lib/python3.10/dist-packages (from mujoco>=2.1.5->gymnasium[all]) (1.4.0)\n",
            "Requirement already satisfied: etils[epath] in /usr/local/lib/python3.10/dist-packages (from mujoco>=2.1.5->gymnasium[all]) (1.11.0)\n",
            "Collecting glfw (from mujoco>=2.1.5->gymnasium[all])\n",
            "  Downloading glfw-2.8.0-py2.py27.py3.py30.py31.py32.py33.py34.py35.py36.py37.py38.p39.p310.p311.p312.p313-none-manylinux_2_28_x86_64.whl.metadata (5.4 kB)\n",
            "Requirement already satisfied: pyopengl in /usr/local/lib/python3.10/dist-packages (from mujoco>=2.1.5->gymnasium[all]) (3.1.7)\n",
            "Requirement already satisfied: cffi>=1.10 in /usr/local/lib/python3.10/dist-packages (from mujoco-py<2.2,>=2.1->gymnasium[all]) (1.17.1)\n",
            "Collecting fasteners~=0.15 (from mujoco-py<2.2,>=2.1->gymnasium[all])\n",
            "  Downloading fasteners-0.19-py3-none-any.whl.metadata (4.9 kB)\n",
            "Requirement already satisfied: filelock in /usr/local/lib/python3.10/dist-packages (from torch>=1.0.0->gymnasium[all]) (3.16.1)\n",
            "Requirement already satisfied: networkx in /usr/local/lib/python3.10/dist-packages (from torch>=1.0.0->gymnasium[all]) (3.4.2)\n",
            "Requirement already satisfied: jinja2 in /usr/local/lib/python3.10/dist-packages (from torch>=1.0.0->gymnasium[all]) (3.1.4)\n",
            "Requirement already satisfied: fsspec in /usr/local/lib/python3.10/dist-packages (from torch>=1.0.0->gymnasium[all]) (2024.10.0)\n",
            "Requirement already satisfied: sympy==1.13.1 in /usr/local/lib/python3.10/dist-packages (from torch>=1.0.0->gymnasium[all]) (1.13.1)\n",
            "Requirement already satisfied: mpmath<1.4,>=1.1.0 in /usr/local/lib/python3.10/dist-packages (from sympy==1.13.1->torch>=1.0.0->gymnasium[all]) (1.3.0)\n",
            "Requirement already satisfied: pycparser in /usr/local/lib/python3.10/dist-packages (from cffi>=1.10->mujoco-py<2.2,>=2.1->gymnasium[all]) (2.22)\n",
            "Requirement already satisfied: setuptools in /usr/local/lib/python3.10/dist-packages (from imageio_ffmpeg>=0.2.0->moviepy>=1.0.0->gymnasium[all]) (75.1.0)\n",
            "Requirement already satisfied: six>=1.5 in /usr/local/lib/python3.10/dist-packages (from python-dateutil>=2.7->matplotlib>=3.0->gymnasium[all]) (1.17.0)\n",
            "Requirement already satisfied: charset-normalizer<4,>=2 in /usr/local/lib/python3.10/dist-packages (from requests<3.0,>=2.8.1->moviepy>=1.0.0->gymnasium[all]) (3.4.0)\n",
            "Requirement already satisfied: idna<4,>=2.5 in /usr/local/lib/python3.10/dist-packages (from requests<3.0,>=2.8.1->moviepy>=1.0.0->gymnasium[all]) (3.10)\n",
            "Requirement already satisfied: urllib3<3,>=1.21.1 in /usr/local/lib/python3.10/dist-packages (from requests<3.0,>=2.8.1->moviepy>=1.0.0->gymnasium[all]) (2.2.3)\n",
            "Requirement already satisfied: certifi>=2017.4.17 in /usr/local/lib/python3.10/dist-packages (from requests<3.0,>=2.8.1->moviepy>=1.0.0->gymnasium[all]) (2024.12.14)\n",
            "Requirement already satisfied: markdown-it-py>=2.2.0 in /usr/local/lib/python3.10/dist-packages (from rich>=11.1->flax>=0.5.0->gymnasium[all]) (3.0.0)\n",
            "Requirement already satisfied: pygments<3.0.0,>=2.13.0 in /usr/local/lib/python3.10/dist-packages (from rich>=11.1->flax>=0.5.0->gymnasium[all]) (2.18.0)\n",
            "Requirement already satisfied: importlib_resources in /usr/local/lib/python3.10/dist-packages (from etils[epath]->mujoco>=2.1.5->gymnasium[all]) (6.4.5)\n",
            "Requirement already satisfied: zipp in /usr/local/lib/python3.10/dist-packages (from etils[epath]->mujoco>=2.1.5->gymnasium[all]) (3.21.0)\n",
            "Requirement already satisfied: MarkupSafe>=2.0 in /usr/local/lib/python3.10/dist-packages (from jinja2->torch>=1.0.0->gymnasium[all]) (3.0.2)\n",
            "Requirement already satisfied: chex>=0.1.87 in /usr/local/lib/python3.10/dist-packages (from optax->flax>=0.5.0->gymnasium[all]) (0.1.88)\n",
            "Requirement already satisfied: nest_asyncio in /usr/local/lib/python3.10/dist-packages (from orbax-checkpoint->flax>=0.5.0->gymnasium[all]) (1.6.0)\n",
            "Requirement already satisfied: protobuf in /usr/local/lib/python3.10/dist-packages (from orbax-checkpoint->flax>=0.5.0->gymnasium[all]) (4.25.5)\n",
            "Requirement already satisfied: humanize in /usr/local/lib/python3.10/dist-packages (from orbax-checkpoint->flax>=0.5.0->gymnasium[all]) (4.11.0)\n",
            "Requirement already satisfied: toolz>=0.9.0 in /usr/local/lib/python3.10/dist-packages (from chex>=0.1.87->optax->flax>=0.5.0->gymnasium[all]) (0.12.1)\n",
            "Requirement already satisfied: mdurl~=0.1 in /usr/local/lib/python3.10/dist-packages (from markdown-it-py>=2.2.0->rich>=11.1->flax>=0.5.0->gymnasium[all]) (0.1.2)\n",
            "Downloading ale_py-0.10.1-cp310-cp310-manylinux_2_17_x86_64.manylinux2014_x86_64.whl (2.1 MB)\n",
            "\u001b[2K   \u001b[90m━━━━━━━━━━━━━━━━━━━━━━━━━━━━━━━━━━━━━━━━\u001b[0m \u001b[32m2.1/2.1 MB\u001b[0m \u001b[31m38.1 MB/s\u001b[0m eta \u001b[36m0:00:00\u001b[0m\n",
            "\u001b[?25hDownloading Cython-0.29.37-cp310-cp310-manylinux_2_17_x86_64.manylinux2014_x86_64.manylinux_2_24_x86_64.whl (1.9 MB)\n",
            "\u001b[2K   \u001b[90m━━━━━━━━━━━━━━━━━━━━━━━━━━━━━━━━━━━━━━━━\u001b[0m \u001b[32m1.9/1.9 MB\u001b[0m \u001b[31m53.6 MB/s\u001b[0m eta \u001b[36m0:00:00\u001b[0m\n",
            "\u001b[?25hDownloading mujoco-3.2.6-cp310-cp310-manylinux_2_17_x86_64.manylinux2014_x86_64.whl (6.4 MB)\n",
            "\u001b[2K   \u001b[90m━━━━━━━━━━━━━━━━━━━━━━━━━━━━━━━━━━━━━━━━\u001b[0m \u001b[32m6.4/6.4 MB\u001b[0m \u001b[31m84.2 MB/s\u001b[0m eta \u001b[36m0:00:00\u001b[0m\n",
            "\u001b[?25hDownloading mujoco_py-2.1.2.14-py3-none-any.whl (2.4 MB)\n",
            "\u001b[2K   \u001b[90m━━━━━━━━━━━━━━━━━━━━━━━━━━━━━━━━━━━━━━━━\u001b[0m \u001b[32m2.4/2.4 MB\u001b[0m \u001b[31m57.7 MB/s\u001b[0m eta \u001b[36m0:00:00\u001b[0m\n",
            "\u001b[?25hDownloading fasteners-0.19-py3-none-any.whl (18 kB)\n",
            "Downloading glfw-2.8.0-py2.py27.py3.py30.py31.py32.py33.py34.py35.py36.py37.py38.p39.p310.p311.p312.p313-none-manylinux_2_28_x86_64.whl (243 kB)\n",
            "\u001b[2K   \u001b[90m━━━━━━━━━━━━━━━━━━━━━━━━━━━━━━━━━━━━━━━━\u001b[0m \u001b[32m243.4/243.4 kB\u001b[0m \u001b[31m16.4 MB/s\u001b[0m eta \u001b[36m0:00:00\u001b[0m\n",
            "\u001b[?25hInstalling collected packages: glfw, fasteners, cython, ale-py, mujoco-py, mujoco\n",
            "  Attempting uninstall: cython\n",
            "    Found existing installation: Cython 3.0.11\n",
            "    Uninstalling Cython-3.0.11:\n",
            "      Successfully uninstalled Cython-3.0.11\n",
            "Successfully installed ale-py-0.10.1 cython-0.29.37 fasteners-0.19 glfw-2.8.0 mujoco-3.2.6 mujoco-py-2.1.2.14\n",
            "Requirement already satisfied: ale-py in /usr/local/lib/python3.10/dist-packages (0.10.1)\n",
            "Requirement already satisfied: numpy>1.20 in /usr/local/lib/python3.10/dist-packages (from ale-py) (1.26.4)\n",
            "Requirement already satisfied: typing-extensions in /usr/local/lib/python3.10/dist-packages (from ale-py) (4.12.2)\n",
            "Collecting stable_baselines3\n",
            "  Downloading stable_baselines3-2.4.0-py3-none-any.whl.metadata (4.5 kB)\n",
            "Requirement already satisfied: gymnasium<1.1.0,>=0.29.1 in /usr/local/lib/python3.10/dist-packages (from stable_baselines3) (1.0.0)\n",
            "Requirement already satisfied: numpy<2.0,>=1.20 in /usr/local/lib/python3.10/dist-packages (from stable_baselines3) (1.26.4)\n",
            "Requirement already satisfied: torch>=1.13 in /usr/local/lib/python3.10/dist-packages (from stable_baselines3) (2.5.1+cu121)\n",
            "Requirement already satisfied: cloudpickle in /usr/local/lib/python3.10/dist-packages (from stable_baselines3) (3.1.0)\n",
            "Requirement already satisfied: pandas in /usr/local/lib/python3.10/dist-packages (from stable_baselines3) (2.2.2)\n",
            "Requirement already satisfied: matplotlib in /usr/local/lib/python3.10/dist-packages (from stable_baselines3) (3.8.0)\n",
            "Requirement already satisfied: typing-extensions>=4.3.0 in /usr/local/lib/python3.10/dist-packages (from gymnasium<1.1.0,>=0.29.1->stable_baselines3) (4.12.2)\n",
            "Requirement already satisfied: farama-notifications>=0.0.1 in /usr/local/lib/python3.10/dist-packages (from gymnasium<1.1.0,>=0.29.1->stable_baselines3) (0.0.4)\n",
            "Requirement already satisfied: filelock in /usr/local/lib/python3.10/dist-packages (from torch>=1.13->stable_baselines3) (3.16.1)\n",
            "Requirement already satisfied: networkx in /usr/local/lib/python3.10/dist-packages (from torch>=1.13->stable_baselines3) (3.4.2)\n",
            "Requirement already satisfied: jinja2 in /usr/local/lib/python3.10/dist-packages (from torch>=1.13->stable_baselines3) (3.1.4)\n",
            "Requirement already satisfied: fsspec in /usr/local/lib/python3.10/dist-packages (from torch>=1.13->stable_baselines3) (2024.10.0)\n",
            "Requirement already satisfied: sympy==1.13.1 in /usr/local/lib/python3.10/dist-packages (from torch>=1.13->stable_baselines3) (1.13.1)\n",
            "Requirement already satisfied: mpmath<1.4,>=1.1.0 in /usr/local/lib/python3.10/dist-packages (from sympy==1.13.1->torch>=1.13->stable_baselines3) (1.3.0)\n",
            "Requirement already satisfied: contourpy>=1.0.1 in /usr/local/lib/python3.10/dist-packages (from matplotlib->stable_baselines3) (1.3.1)\n",
            "Requirement already satisfied: cycler>=0.10 in /usr/local/lib/python3.10/dist-packages (from matplotlib->stable_baselines3) (0.12.1)\n",
            "Requirement already satisfied: fonttools>=4.22.0 in /usr/local/lib/python3.10/dist-packages (from matplotlib->stable_baselines3) (4.55.3)\n",
            "Requirement already satisfied: kiwisolver>=1.0.1 in /usr/local/lib/python3.10/dist-packages (from matplotlib->stable_baselines3) (1.4.7)\n",
            "Requirement already satisfied: packaging>=20.0 in /usr/local/lib/python3.10/dist-packages (from matplotlib->stable_baselines3) (24.2)\n",
            "Requirement already satisfied: pillow>=6.2.0 in /usr/local/lib/python3.10/dist-packages (from matplotlib->stable_baselines3) (11.0.0)\n",
            "Requirement already satisfied: pyparsing>=2.3.1 in /usr/local/lib/python3.10/dist-packages (from matplotlib->stable_baselines3) (3.2.0)\n",
            "Requirement already satisfied: python-dateutil>=2.7 in /usr/local/lib/python3.10/dist-packages (from matplotlib->stable_baselines3) (2.8.2)\n",
            "Requirement already satisfied: pytz>=2020.1 in /usr/local/lib/python3.10/dist-packages (from pandas->stable_baselines3) (2024.2)\n",
            "Requirement already satisfied: tzdata>=2022.7 in /usr/local/lib/python3.10/dist-packages (from pandas->stable_baselines3) (2024.2)\n",
            "Requirement already satisfied: six>=1.5 in /usr/local/lib/python3.10/dist-packages (from python-dateutil>=2.7->matplotlib->stable_baselines3) (1.17.0)\n",
            "Requirement already satisfied: MarkupSafe>=2.0 in /usr/local/lib/python3.10/dist-packages (from jinja2->torch>=1.13->stable_baselines3) (3.0.2)\n",
            "Downloading stable_baselines3-2.4.0-py3-none-any.whl (183 kB)\n",
            "\u001b[2K   \u001b[90m━━━━━━━━━━━━━━━━━━━━━━━━━━━━━━━━━━━━━━━━\u001b[0m \u001b[32m183.9/183.9 kB\u001b[0m \u001b[31m5.5 MB/s\u001b[0m eta \u001b[36m0:00:00\u001b[0m\n",
            "\u001b[?25hInstalling collected packages: stable_baselines3\n",
            "Successfully installed stable_baselines3-2.4.0\n",
            "Collecting pyvirtualdisplay\n",
            "  Downloading PyVirtualDisplay-3.0-py3-none-any.whl.metadata (943 bytes)\n",
            "Downloading PyVirtualDisplay-3.0-py3-none-any.whl (15 kB)\n",
            "Installing collected packages: pyvirtualdisplay\n",
            "Successfully installed pyvirtualdisplay-3.0\n"
          ]
        }
      ],
      "source": [
        "!pip install swig\n",
        "!pip install \"gymnasium[box2d]\"\n",
        "!pip install gymnasium[all]\n",
        "!pip install ale-py\n",
        "!pip install stable_baselines3\n",
        "!pip install pyvirtualdisplay"
      ]
    },
    {
      "cell_type": "markdown",
      "metadata": {
        "id": "J_XWNEv6vXiv"
      },
      "source": [
        "#Tests sur l'environnement"
      ]
    },
    {
      "cell_type": "code",
      "execution_count": null,
      "metadata": {
        "colab": {
          "base_uri": "https://localhost:8080/",
          "height": 403
        },
        "id": "F2sadjVuq17z",
        "outputId": "0d0ac2d4-dc7e-4276-9ebc-3d0ba490e91e"
      },
      "outputs": [
        {
          "output_type": "stream",
          "name": "stdout",
          "text": [
            "(400, 600, 3)\n"
          ]
        },
        {
          "output_type": "display_data",
          "data": {
            "text/plain": [
              "<Figure size 640x480 with 1 Axes>"
            ],
            "image/png": "[encoded data removed]"
          },
          "metadata": {}
        },
        {
          "output_type": "stream",
          "name": "stdout",
          "text": [
            "Nombre d'inforamtions par état: 8, nombre d'actions possibles: 4\n"
          ]
        }
      ],
      "source": [
        "import gymnasium as gym\n",
        "import matplotlib.pyplot as plt\n",
        "\n",
        "env = gym.make('LunarLander-v3', render_mode='rgb_array')\n",
        "observation, info = env.reset()\n",
        "\n",
        "action = env.action_space.sample()\n",
        "observation, reward, terminated, truncated, info = env.step(action)\n",
        "frame = env.render()\n",
        "print(frame.shape)\n",
        "\n",
        "plt.imshow(frame)\n",
        "plt.axis(\"off\")\n",
        "plt.show()\n",
        "\n",
        "STATE_DIM = env.observation_space.shape[0]\n",
        "ACTION_DIM = env.action_space.n\n",
        "print(f\"Nombre d'inforamtions par état: {STATE_DIM}, nombre d'actions possibles: {ACTION_DIM}\")"
      ]
    },
    {
      "cell_type": "markdown",
      "metadata": {
        "id": "2D6f4u3x7wBK"
      },
      "source": [
        "# Deep Q-learning avec MLP"
      ]
    },
    {
      "cell_type": "markdown",
      "metadata": {
        "id": "iQcV_OOn73YB"
      },
      "source": [
        "Définitions des paramètres du modèle"
      ]
    },
    {
      "cell_type": "code",
      "execution_count": null,
      "metadata": {
        "id": "n-AHCkf33RTK"
      },
      "outputs": [],
      "source": [
        "# Hyperparamètres\n",
        "GAMMA = 0.99           # Facteur de discount\n",
        "LR = 1e-3              # Taux d'apprentissage\n",
        "BATCH_SIZE = 64        # Taille des lots pour l'entraînement\n",
        "MEMORY_SIZE = 100000   # Taille du replay buffer\n",
        "EPSILON_START = 1.0    # Valeur initiale pour epsilon (exploration)\n",
        "EPSILON_END = 0.01     # Valeur finale pour epsilon\n",
        "EPSILON_DECAY = 0.995  # Facteur de décroissance pour epsilon\n",
        "TARGET_UPDATE = 10     # Fréquence de mise à jour du réseau cible"
      ]
    },
    {
      "cell_type": "markdown",
      "metadata": {
        "id": "wXYDSZrE78vl"
      },
      "source": [
        "Création de l'architecture fully connected"
      ]
    },
    {
      "cell_type": "code",
      "execution_count": null,
      "metadata": {
        "colab": {
          "base_uri": "https://localhost:8080/"
        },
        "id": "uCvQwdEhzGUM",
        "outputId": "5951b16f-9721-4cf1-c31d-34e16366bb52"
      },
      "outputs": [
        {
          "output_type": "stream",
          "name": "stdout",
          "text": [
            "----------------------------------------------------------------\n",
            "        Layer (type)               Output Shape         Param #\n",
            "================================================================\n",
            "            Linear-1                  [-1, 128]           1,152\n",
            "              ReLU-2                  [-1, 128]               0\n",
            "            Linear-3                  [-1, 128]          16,512\n",
            "              ReLU-4                  [-1, 128]               0\n",
            "            Linear-5                    [-1, 4]             516\n",
            "================================================================\n",
            "Total params: 18,180\n",
            "Trainable params: 18,180\n",
            "Non-trainable params: 0\n",
            "----------------------------------------------------------------\n",
            "Input size (MB): 0.00\n",
            "Forward/backward pass size (MB): 0.00\n",
            "Params size (MB): 0.07\n",
            "Estimated Total Size (MB): 0.07\n",
            "----------------------------------------------------------------\n"
          ]
        }
      ],
      "source": [
        "import torch\n",
        "import torch.nn as nn\n",
        "import torch.optim as optim\n",
        "import numpy as np\n",
        "import random\n",
        "from collections import deque\n",
        "\n",
        "class MLPQNetwork(nn.Module):\n",
        "    def __init__(self, state_dim, action_dim):\n",
        "        super(MLPQNetwork, self).__init__()\n",
        "        self.fc = nn.Sequential(\n",
        "            nn.Linear(state_dim, 128),\n",
        "            nn.ReLU(),\n",
        "            nn.Linear(128, 128),\n",
        "            nn.ReLU(),\n",
        "            nn.Linear(128, action_dim)\n",
        "        )\n",
        "\n",
        "    def forward(self, x):\n",
        "        return self.fc(x)\n",
        "\n",
        "# Initialiser les réseaux\n",
        "device = torch.device(\"cuda\" if torch.cuda.is_available() else \"cpu\")\n",
        "\n",
        "policy_mlp = MLPQNetwork(STATE_DIM, ACTION_DIM).to(device)\n",
        "target_mlp = MLPQNetwork(STATE_DIM, ACTION_DIM).to(device)\n",
        "target_mlp.load_state_dict(policy_mlp.state_dict())\n",
        "target_mlp.eval()\n",
        "\n",
        "from torchsummary import summary\n",
        "\n",
        "summary(target_mlp, (8, ))"
      ]
    },
    {
      "cell_type": "markdown",
      "metadata": {
        "id": "NKblKjds8Emz"
      },
      "source": [
        "Création de la mémoire tampon pour stocker les transitions"
      ]
    },
    {
      "cell_type": "code",
      "execution_count": null,
      "metadata": {
        "id": "0FfV3tN13DZr"
      },
      "outputs": [],
      "source": [
        "class ReplayBuffer:\n",
        "    def __init__(self, capacity):\n",
        "        self.buffer = deque(maxlen=capacity)\n",
        "\n",
        "    def push(self, state, action, reward, next_state, done):\n",
        "        self.buffer.append((state, action, reward, next_state, done))\n",
        "\n",
        "    def sample(self, batch_size):\n",
        "        samples = random.sample(self.buffer, batch_size)\n",
        "        states, actions, rewards, next_states, dones = zip(*samples)\n",
        "        states = np.array(states)\n",
        "        next_states = np.array(next_states)\n",
        "        return (\n",
        "            torch.tensor(states, dtype=torch.float32).to(device),\n",
        "            torch.tensor(actions, dtype=torch.int64).unsqueeze(1).to(device),\n",
        "            torch.tensor(rewards, dtype=torch.float32).unsqueeze(1).to(device),\n",
        "            torch.tensor(next_states, dtype=torch.float32).to(device),\n",
        "            torch.tensor(dones, dtype=torch.float32).unsqueeze(1).to(device),\n",
        "        )\n",
        "\n",
        "    def __len__(self):\n",
        "        return len(self.buffer)\n",
        "\n",
        "# Initialiser le buffer\n",
        "replay_buffer = ReplayBuffer(MEMORY_SIZE)"
      ]
    },
    {
      "cell_type": "markdown",
      "metadata": {
        "id": "_TawIj208Ojp"
      },
      "source": [
        "Boucle d'entrainement du modèle"
      ]
    },
    {
      "cell_type": "code",
      "execution_count": null,
      "metadata": {
        "colab": {
          "base_uri": "https://localhost:8080/",
          "height": 459
        },
        "collapsed": true,
        "id": "bVheYueY3ZHi",
        "outputId": "c593e4f4-a5b1-449a-9caf-4b1c09a49082"
      },
      "outputs": [
        {
          "output_type": "stream",
          "name": "stdout",
          "text": [
            "Episode 50/800, Reward: -133.403055292848\n",
            "Episode 100/800, Reward: -100.59125553858554\n",
            "Episode 150/800, Reward: -79.38161536888511\n",
            "Episode 200/800, Reward: -104.54733703753034\n",
            "Episode 250/800, Reward: -35.57486341937549\n"
          ]
        },
        {
          "output_type": "error",
          "ename": "KeyboardInterrupt",
          "evalue": "",
          "traceback": [
            "\u001b[0;31m---------------------------------------------------------------------------\u001b[0m",
            "\u001b[0;31mKeyboardInterrupt\u001b[0m                         Traceback (most recent call last)",
            "\u001b[0;32m<ipython-input-12-845db80dc0e4>\u001b[0m in \u001b[0;36m<cell line: 26>\u001b[0;34m()\u001b[0m\n\u001b[1;32m     49\u001b[0m             \u001b[0mloss\u001b[0m \u001b[0;34m=\u001b[0m \u001b[0mcompute_loss\u001b[0m\u001b[0;34m(\u001b[0m\u001b[0mbatch\u001b[0m\u001b[0;34m)\u001b[0m\u001b[0;34m\u001b[0m\u001b[0;34m\u001b[0m\u001b[0m\n\u001b[1;32m     50\u001b[0m             \u001b[0moptimizer\u001b[0m\u001b[0;34m.\u001b[0m\u001b[0mzero_grad\u001b[0m\u001b[0;34m(\u001b[0m\u001b[0;34m)\u001b[0m\u001b[0;34m\u001b[0m\u001b[0;34m\u001b[0m\u001b[0m\n\u001b[0;32m---> 51\u001b[0;31m             \u001b[0mloss\u001b[0m\u001b[0;34m.\u001b[0m\u001b[0mbackward\u001b[0m\u001b[0;34m(\u001b[0m\u001b[0;34m)\u001b[0m\u001b[0;34m\u001b[0m\u001b[0;34m\u001b[0m\u001b[0m\n\u001b[0m\u001b[1;32m     52\u001b[0m             \u001b[0moptimizer\u001b[0m\u001b[0;34m.\u001b[0m\u001b[0mstep\u001b[0m\u001b[0;34m(\u001b[0m\u001b[0;34m)\u001b[0m\u001b[0;34m\u001b[0m\u001b[0;34m\u001b[0m\u001b[0m\n\u001b[1;32m     53\u001b[0m \u001b[0;34m\u001b[0m\u001b[0m\n",
            "\u001b[0;32m/usr/local/lib/python3.10/dist-packages/torch/_tensor.py\u001b[0m in \u001b[0;36mbackward\u001b[0;34m(self, gradient, retain_graph, create_graph, inputs)\u001b[0m\n\u001b[1;32m    579\u001b[0m                 \u001b[0minputs\u001b[0m\u001b[0;34m=\u001b[0m\u001b[0minputs\u001b[0m\u001b[0;34m,\u001b[0m\u001b[0;34m\u001b[0m\u001b[0;34m\u001b[0m\u001b[0m\n\u001b[1;32m    580\u001b[0m             )\n\u001b[0;32m--> 581\u001b[0;31m         torch.autograd.backward(\n\u001b[0m\u001b[1;32m    582\u001b[0m             \u001b[0mself\u001b[0m\u001b[0;34m,\u001b[0m \u001b[0mgradient\u001b[0m\u001b[0;34m,\u001b[0m \u001b[0mretain_graph\u001b[0m\u001b[0;34m,\u001b[0m \u001b[0mcreate_graph\u001b[0m\u001b[0;34m,\u001b[0m \u001b[0minputs\u001b[0m\u001b[0;34m=\u001b[0m\u001b[0minputs\u001b[0m\u001b[0;34m\u001b[0m\u001b[0;34m\u001b[0m\u001b[0m\n\u001b[1;32m    583\u001b[0m         )\n",
            "\u001b[0;32m/usr/local/lib/python3.10/dist-packages/torch/autograd/__init__.py\u001b[0m in \u001b[0;36mbackward\u001b[0;34m(tensors, grad_tensors, retain_graph, create_graph, grad_variables, inputs)\u001b[0m\n\u001b[1;32m    345\u001b[0m     \u001b[0;31m# some Python versions print out the first line of a multi-line function\u001b[0m\u001b[0;34m\u001b[0m\u001b[0;34m\u001b[0m\u001b[0m\n\u001b[1;32m    346\u001b[0m     \u001b[0;31m# calls in the traceback and some print out the last line\u001b[0m\u001b[0;34m\u001b[0m\u001b[0;34m\u001b[0m\u001b[0m\n\u001b[0;32m--> 347\u001b[0;31m     _engine_run_backward(\n\u001b[0m\u001b[1;32m    348\u001b[0m         \u001b[0mtensors\u001b[0m\u001b[0;34m,\u001b[0m\u001b[0;34m\u001b[0m\u001b[0;34m\u001b[0m\u001b[0m\n\u001b[1;32m    349\u001b[0m         \u001b[0mgrad_tensors_\u001b[0m\u001b[0;34m,\u001b[0m\u001b[0;34m\u001b[0m\u001b[0;34m\u001b[0m\u001b[0m\n",
            "\u001b[0;32m/usr/local/lib/python3.10/dist-packages/torch/autograd/graph.py\u001b[0m in \u001b[0;36m_engine_run_backward\u001b[0;34m(t_outputs, *args, **kwargs)\u001b[0m\n\u001b[1;32m    823\u001b[0m         \u001b[0munregister_hooks\u001b[0m \u001b[0;34m=\u001b[0m \u001b[0m_register_logging_hooks_on_whole_graph\u001b[0m\u001b[0;34m(\u001b[0m\u001b[0mt_outputs\u001b[0m\u001b[0;34m)\u001b[0m\u001b[0;34m\u001b[0m\u001b[0;34m\u001b[0m\u001b[0m\n\u001b[1;32m    824\u001b[0m     \u001b[0;32mtry\u001b[0m\u001b[0;34m:\u001b[0m\u001b[0;34m\u001b[0m\u001b[0;34m\u001b[0m\u001b[0m\n\u001b[0;32m--> 825\u001b[0;31m         return Variable._execution_engine.run_backward(  # Calls into the C++ engine to run the backward pass\n\u001b[0m\u001b[1;32m    826\u001b[0m             \u001b[0mt_outputs\u001b[0m\u001b[0;34m,\u001b[0m \u001b[0;34m*\u001b[0m\u001b[0margs\u001b[0m\u001b[0;34m,\u001b[0m \u001b[0;34m**\u001b[0m\u001b[0mkwargs\u001b[0m\u001b[0;34m\u001b[0m\u001b[0;34m\u001b[0m\u001b[0m\n\u001b[1;32m    827\u001b[0m         )  # Calls into the C++ engine to run the backward pass\n",
            "\u001b[0;31mKeyboardInterrupt\u001b[0m: "
          ]
        }
      ],
      "source": [
        "# Optimiseur\n",
        "optimizer = optim.Adam(policy_mlp.parameters(), lr=LR)\n",
        "epsilon = EPSILON_START\n",
        "\n",
        "def compute_loss(batch):\n",
        "    states, actions, rewards, next_states, dones = batch\n",
        "\n",
        "    # Q-valeurs actuelles\n",
        "    q_values = policy_mlp(states).gather(1, actions)\n",
        "\n",
        "    # Q-valeurs cibles\n",
        "    with torch.no_grad():\n",
        "        next_actions = policy_mlp(next_states).argmax(1, keepdim=True)\n",
        "\n",
        "        max_next_q_values = target_mlp(next_states).gather(1, next_actions)\n",
        "\n",
        "        target_q_values = rewards + (1 - dones) * GAMMA * max_next_q_values\n",
        "\n",
        "    # Perte (MSE)\n",
        "    loss = nn.MSELoss()(q_values, target_q_values)\n",
        "    return loss\n",
        "\n",
        "# Entraînement\n",
        "num_episodes = 800\n",
        "episode_reward = []\n",
        "for episode in range(num_episodes):\n",
        "    state, _ = env.reset()\n",
        "    state = torch.tensor(state, dtype=torch.float32).to(device)\n",
        "    total_reward = 0\n",
        "\n",
        "    for t in range(1000):\n",
        "        # Choisir une action (epsilon-greedy)\n",
        "        if random.random() < epsilon:\n",
        "            action = env.action_space.sample()\n",
        "        else:\n",
        "            with torch.no_grad():\n",
        "                action = policy_mlp(state).argmax().item()\n",
        "\n",
        "        # Exécuter l'action\n",
        "        next_state, reward, terminated, truncated, _ = env.step(action)\n",
        "        done = terminated or truncated\n",
        "        replay_buffer.push(state.cpu().numpy(), action, reward, next_state, done)\n",
        "        state = torch.tensor(next_state, dtype=torch.float32).to(device)\n",
        "        total_reward += reward\n",
        "\n",
        "        # Entraînement\n",
        "        if len(replay_buffer) > BATCH_SIZE:\n",
        "            batch = replay_buffer.sample(BATCH_SIZE)\n",
        "            loss = compute_loss(batch)\n",
        "            optimizer.zero_grad()\n",
        "            loss.backward()\n",
        "            optimizer.step()\n",
        "\n",
        "        # Mettre à jour le réseau cible\n",
        "        if t % TARGET_UPDATE == 0:\n",
        "            target_mlp.load_state_dict(policy_mlp.state_dict())\n",
        "\n",
        "        if done:\n",
        "            break\n",
        "\n",
        "    episode_reward.append(total_reward)\n",
        "\n",
        "    # Décroissance de epsilon\n",
        "    epsilon = max(EPSILON_END, epsilon * EPSILON_DECAY)\n",
        "\n",
        "    #Affichage de la récompense moyenne toutes les k itérations\n",
        "    k = 50\n",
        "    if (episode + 1)%k == 0:\n",
        "        print(f\"Episode {episode + 1}/{num_episodes}, Reward: {sum(episode_reward[-k:])/k}\")\n",
        "\n",
        "env.close()\n",
        "\n",
        "torch.save(policy_mlp.state_dict(), 'policy_mlp.pth')\n",
        "torch.save(target_mlp.state_dict(), 'target_mlp.pth')"
      ]
    },
    {
      "cell_type": "markdown",
      "metadata": {
        "id": "1WCtLueFGlau"
      },
      "source": [
        "Affichage des récompenses au cours de l'entrainement"
      ]
    },
    {
      "cell_type": "code",
      "execution_count": null,
      "metadata": {
        "colab": {
          "base_uri": "https://localhost:8080/",
          "height": 569
        },
        "id": "BH8otyEHGlav",
        "outputId": "ea310a6d-90f4-453a-f188-dc0c86d593d5"
      },
      "outputs": [
        {
          "output_type": "display_data",
          "data": {
            "text/plain": [
              "<Figure size 1000x600 with 1 Axes>"
            ],
            "image/png": "[encoded data removed]"
          },
          "metadata": {}
        }
      ],
      "source": [
        "import matplotlib.pyplot as plt\n",
        "\n",
        "plt.figure(figsize=(10, 6))\n",
        "plt.plot(range(len(episode_reward)), episode_reward, label=\"Reward par épisode\")\n",
        "plt.xlabel(\"Épisodes\")\n",
        "plt.ylabel(\"Récompense totale\")\n",
        "plt.title(\"Évolution de la récompense au fil des épisodes\")\n",
        "plt.legend()\n",
        "plt.grid()\n",
        "plt.show()"
      ]
    },
    {
      "cell_type": "markdown",
      "metadata": {
        "id": "s8BHLkPi8eay"
      },
      "source": [
        "Test du modèle sur plusieurs épisodes"
      ]
    },
    {
      "cell_type": "code",
      "execution_count": null,
      "metadata": {
        "id": "HRmV9LiX4fPd"
      },
      "outputs": [],
      "source": [
        "import matplotlib.pyplot as plt\n",
        "\n",
        "episode_rewards = []\n",
        "\n",
        "for episode in range(100):\n",
        "    state, _ = env.reset()\n",
        "    state = torch.tensor(state, dtype=torch.float32).to(device)\n",
        "    done = False\n",
        "    total_reward = 0\n",
        "\n",
        "    while not done:\n",
        "        with torch.no_grad():\n",
        "            action = policy_mlp(state).argmax().item()\n",
        "        next_state, reward, terminated, truncated, _ = env.step(action)\n",
        "        done = terminated or truncated\n",
        "        state = torch.tensor(next_state, dtype=torch.float32).to(device)\n",
        "        total_reward += reward\n",
        "        env.render()\n",
        "\n",
        "    env.close()\n",
        "\n",
        "    episode_rewards.append(total_reward)\n",
        "\n",
        "plt.plot(episode_rewards)\n",
        "plt.title(\"Récompenses par épisode\")\n",
        "plt.xlabel(\"Épisodes\")\n",
        "plt.ylabel(\"Récompense totale\")\n",
        "plt.show()\n",
        "print(episode_rewards)"
      ]
    },
    {
      "cell_type": "markdown",
      "metadata": {
        "id": "kJKuu9FX8kFi"
      },
      "source": [
        "Enregistrement d'une vidéo pour observer le comportement du modèle"
      ]
    },
    {
      "cell_type": "code",
      "execution_count": null,
      "metadata": {
        "collapsed": true,
        "id": "gxUcTFi4LfhM"
      },
      "outputs": [],
      "source": [
        "import imageio\n",
        "\n",
        "frames = []\n",
        "\n",
        "state, _ = env.reset()\n",
        "state = torch.tensor(state, dtype=torch.float32).to(device)\n",
        "done = False\n",
        "total_reward = 0\n",
        "\n",
        "while not done:\n",
        "    with torch.no_grad():\n",
        "        action = policy_mlp(state).argmax().item()\n",
        "    next_state, reward, terminated, truncated, _ = env.step(action)\n",
        "    done = terminated or truncated\n",
        "    state = torch.tensor(next_state, dtype=torch.float32).to(device)\n",
        "\n",
        "    frames.append(env.render())\n",
        "    total_reward += reward\n",
        "\n",
        "env.close()\n",
        "print(total_reward)\n",
        "video_filename = \"test_run.mp4\"\n",
        "imageio.mimsave(video_filename, frames, fps=30)"
      ]
    },
    {
      "cell_type": "markdown",
      "metadata": {
        "id": "tFZVQCVU8pza"
      },
      "source": [
        "# Deep Q-learning avec CNN"
      ]
    },
    {
      "cell_type": "code",
      "execution_count": null,
      "metadata": {
        "id": "MACH9e_7boav"
      },
      "outputs": [],
      "source": [
        "import gymnasium as gym\n",
        "import matplotlib.pyplot as plt\n",
        "'''\n",
        "import ale_py\n",
        "gym.register_envs(ale_py)\n",
        "env = gym.make('ALE/Pong-v5', render_mode='rgb_array')\n",
        "'''\n",
        "env = gym.make('LunarLander-v3', render_mode='rgb_array')\n",
        "observation, info = env.reset()\n",
        "\n",
        "STATE_DIM = env.observation_space.shape[0]\n",
        "ACTION_DIM = env.action_space.n"
      ]
    },
    {
      "cell_type": "code",
      "execution_count": null,
      "metadata": {
        "id": "ytiasK7NAFiM"
      },
      "outputs": [],
      "source": [
        "# Paramètres d'entraînement\n",
        "GAMMA = 0.99\n",
        "LR = 1e-4\n",
        "BATCH_SIZE = 4\n",
        "MEMORY_SIZE = 1000\n",
        "EPSILON_START = 1.0\n",
        "EPSILON_END = 0.1\n",
        "EPSILON_DECAY = 0.995\n",
        "TARGET_UPDATE = 10"
      ]
    },
    {
      "cell_type": "markdown",
      "metadata": {
        "id": "_aLdHzF9vbnV"
      },
      "source": [
        "Pré-traitement des images récupérées vers une taille de 84x84\n"
      ]
    },
    {
      "cell_type": "code",
      "execution_count": null,
      "metadata": {
        "id": "Xy3DWUPp9Nzq"
      },
      "outputs": [],
      "source": [
        "from torchvision import transforms\n",
        "\n",
        "transform = transforms.Compose([\n",
        "    transforms.ToPILImage(),\n",
        "    transforms.Resize((84, 84)),\n",
        "    transforms.ToTensor(),\n",
        "    transforms.Grayscale(num_output_channels=1)\n",
        "])\n",
        "\n",
        "frame = env.render()\n",
        "preprocessed_frame = transform(frame).squeeze()\n",
        "plt.imshow(preprocessed_frame)\n",
        "plt.show()"
      ]
    },
    {
      "cell_type": "markdown",
      "metadata": {
        "id": "nfGdA_DpzMtl"
      },
      "source": [
        "Empiler 4 frames pour que le modèle comprenne la séquence"
      ]
    },
    {
      "cell_type": "code",
      "execution_count": null,
      "metadata": {
        "id": "-0zOsdt4zSn1"
      },
      "outputs": [],
      "source": [
        "from collections import deque\n",
        "import numpy as np\n",
        "\n",
        "stacked_frames = deque(maxlen=4)\n",
        "\n",
        "def stack_frames(frame, is_new_episode):\n",
        "    if is_new_episode:\n",
        "        # Empile 4 fois la même frame si c'est la 1ère\n",
        "        for _ in range(4):\n",
        "            stacked_frames.append(frame)\n",
        "    else:\n",
        "        stacked_frames.append(frame)\n",
        "\n",
        "    return np.stack(stacked_frames, axis=0)\n",
        "\n",
        "\n",
        "stacked_frame = stack_frames(preprocessed_frame, is_new_episode=True)\n",
        "print(stacked_frame.shape)"
      ]
    },
    {
      "cell_type": "code",
      "execution_count": null,
      "metadata": {
        "id": "ULMH6ntX99-a"
      },
      "outputs": [],
      "source": [
        "import torch\n",
        "import torch.nn as nn\n",
        "import torch.optim as optim\n",
        "import random\n",
        "\n",
        "class CNNQNetwork(nn.Module):\n",
        "    def __init__(self, input_channels, action_dim):\n",
        "        super(CNNQNetwork, self).__init__()\n",
        "\n",
        "        self.conv1 = nn.Conv2d(input_channels, 16, kernel_size=8, stride=4, padding=0)  # 16 cartes, filtre 8x8\n",
        "        self.relu1 = nn.ReLU()\n",
        "\n",
        "        self.conv2 = nn.Conv2d(16, 32, kernel_size=4, stride=2, padding=0)  # 32 cartes, filtre 4x4\n",
        "        self.relu2 = nn.ReLU()\n",
        "\n",
        "        self.flatten_size = 32 * 9 * 9  # 32 cartes de taille 9x9 après les convolutions\n",
        "\n",
        "        self.fc3 = nn.Linear(self.flatten_size, 256)  # 256 unités cachées\n",
        "        self.relu3 = nn.ReLU()\n",
        "\n",
        "        self.fc4 = nn.Linear(256, action_dim)  # Sortie pour chaque action possible\n",
        "\n",
        "    def forward(self, x):\n",
        "        x = self.relu1(self.conv1(x))\n",
        "        x = self.relu2(self.conv2(x))\n",
        "\n",
        "        x = x.view(x.size(0), -1)\n",
        "\n",
        "        x = self.relu3(self.fc3(x))\n",
        "        x = self.fc4(x)\n",
        "\n",
        "        return x\n",
        "\n",
        "device = torch.device(\"cuda\" if torch.cuda.is_available() else \"cpu\")\n",
        "\n",
        "policy_cnn = CNNQNetwork(input_channels=4, action_dim=ACTION_DIM).to(device)\n",
        "target_cnn = CNNQNetwork(input_channels=4, action_dim=ACTION_DIM).to(device)\n",
        "target_cnn.load_state_dict(policy_cnn.state_dict())\n",
        "target_cnn.eval()\n",
        "\n",
        "from torchsummary import summary\n",
        "\n",
        "summary(target_cnn, (4, 84, 84))"
      ]
    },
    {
      "cell_type": "markdown",
      "metadata": {
        "id": "6MXrWuvjAN_k"
      },
      "source": [
        "mémoire tampon pour le modèle"
      ]
    },
    {
      "cell_type": "code",
      "execution_count": null,
      "metadata": {
        "id": "00HU9pa-9pzk"
      },
      "outputs": [],
      "source": [
        "class ReplayBuffer:\n",
        "    def __init__(self, capacity):\n",
        "        self.buffer = deque(maxlen=capacity)\n",
        "\n",
        "    def push(self, state, action, reward, next_state, done):\n",
        "        self.buffer.append((state, action, reward, next_state, done))\n",
        "\n",
        "    def sample(self, batch_size):\n",
        "        samples = random.sample(self.buffer, batch_size)\n",
        "        frames, actions, rewards, next_frames, dones = zip(*samples)\n",
        "        frames= np.array(frames)\n",
        "        next_frames = np.array(next_frames)\n",
        "        return (\n",
        "            torch.tensor(frames, dtype=torch.float32).to(device),\n",
        "            torch.tensor(actions, dtype=torch.int64).unsqueeze(1).to(device),\n",
        "            torch.tensor(rewards, dtype=torch.float32).unsqueeze(1).to(device),\n",
        "            torch.tensor(next_frames, dtype=torch.float32).to(device),\n",
        "            torch.tensor(dones, dtype=torch.float32).unsqueeze(1).to(device),\n",
        "        )\n",
        "\n",
        "    def __len__(self):\n",
        "        return len(self.buffer)\n",
        "\n",
        "# Initialiser le buffer\n",
        "replay_buffer = ReplayBuffer(MEMORY_SIZE)"
      ]
    },
    {
      "cell_type": "markdown",
      "metadata": {
        "id": "xy0zUcERAJlc"
      },
      "source": [
        "Limitation des récompenses et fonction de loss"
      ]
    },
    {
      "cell_type": "code",
      "execution_count": null,
      "metadata": {
        "id": "evZCoPgfAI6E"
      },
      "outputs": [],
      "source": [
        "def clip_reward(reward, min_reward=-1, max_reward=1):\n",
        "    return np.clip(reward, min_reward, max_reward)\n",
        "\n",
        "# Fonction de perte\n",
        "def compute_loss(batch):\n",
        "    states, actions, rewards, next_states, dones = batch\n",
        "\n",
        "    # Q-valeurs actuelles\n",
        "    q_values = policy_cnn(states).gather(1, actions)\n",
        "\n",
        "    # Q-valeurs cibles\n",
        "    with torch.no_grad():\n",
        "        next_actions = policy_cnn(next_states).argmax(1, keepdim=True)\n",
        "\n",
        "        max_next_q_values = target_cnn(next_states).gather(1, next_actions)\n",
        "\n",
        "        target_q_values = rewards + (1 - dones) * GAMMA * max_next_q_values\n",
        "\n",
        "    # Perte (MSE)\n",
        "    loss = nn.MSELoss()(q_values, target_q_values)\n",
        "    return loss\n"
      ]
    },
    {
      "cell_type": "markdown",
      "metadata": {
        "id": "BRvL12oLAQpG"
      },
      "source": [
        "Boucle d'entrainement"
      ]
    },
    {
      "cell_type": "code",
      "execution_count": null,
      "metadata": {
        "collapsed": true,
        "id": "CFeOExVCu1dy"
      },
      "outputs": [],
      "source": [
        "# Entraînement\n",
        "num_episodes = 1000\n",
        "epsilon = EPSILON_START\n",
        "optimizer = optim.Adam(policy_cnn.parameters(), lr=LR)\n",
        "replay_buffer = ReplayBuffer(MEMORY_SIZE)\n",
        "\n",
        "episode_reward = []\n",
        "for episode in range(num_episodes):\n",
        "    _, _ = env.reset()\n",
        "    frame = env.render()\n",
        "    frame = transform(frame).squeeze()\n",
        "    frame = stack_frames(frame, is_new_episode=True)\n",
        "    frame = torch.tensor(frame, dtype=torch.float32).to(device)\n",
        "    total_reward = 0\n",
        "\n",
        "    for t in range(1000):\n",
        "        # Choisir une action (epsilon-greedy)\n",
        "        if random.random() < epsilon:\n",
        "            action = env.action_space.sample()\n",
        "        else:\n",
        "            with torch.no_grad():\n",
        "                action = policy_cnn(frame.unsqueeze(0)).argmax().item()  # unsqueeze() pour ajouter la dimension de batch\n",
        "\n",
        "        # Exécuter l'action\n",
        "        next_state, reward, terminated, truncated, _ = env.step(action)\n",
        "        #reward = clip_reward(reward)\n",
        "        done = terminated or truncated\n",
        "\n",
        "        # Récupérer l'image du jeu\n",
        "        next_frame = env.render()\n",
        "        next_frame = transform(next_frame).squeeze()\n",
        "        next_frame = stack_frames(next_frame, is_new_episode=True)\n",
        "        next_frame = torch.tensor(next_frame, dtype=torch.float32).to(device)\n",
        "\n",
        "        replay_buffer.push(frame.cpu().numpy(), action, reward, next_frame.cpu().numpy(), done)\n",
        "        frame = next_frame\n",
        "        total_reward += reward\n",
        "\n",
        "        # Entraînement\n",
        "        if len(replay_buffer) > BATCH_SIZE:\n",
        "            batch = replay_buffer.sample(BATCH_SIZE)\n",
        "            loss = compute_loss(batch)\n",
        "            optimizer.zero_grad()\n",
        "            loss.backward()\n",
        "            optimizer.step()\n",
        "\n",
        "        # Mettre à jour le réseau cible\n",
        "        if t % TARGET_UPDATE == 0:\n",
        "            target_cnn.load_state_dict(policy_cnn.state_dict())\n",
        "\n",
        "        if done:\n",
        "            break\n",
        "\n",
        "    episode_reward.append(total_reward)\n",
        "\n",
        "    # Décroissance de epsilon\n",
        "    epsilon = max(EPSILON_END, epsilon * EPSILON_DECAY)\n",
        "\n",
        "    #Affichage de la récompense moyenne toutes les k itérations\n",
        "    k = 25\n",
        "    if (episode + 1)%k == 0:\n",
        "        print(f\"Episode {episode + 1}/{num_episodes}, Reward: {sum(episode_reward[-k:])/k}\")\n",
        "\n",
        "env.close()\n",
        "\n",
        "torch.save(policy_cnn.state_dict(), 'policy_cnn.pth')\n",
        "torch.save(target_cnn.state_dict(), 'target_cnn.pth')"
      ]
    },
    {
      "cell_type": "markdown",
      "metadata": {
        "id": "hllljNp_GaTd"
      },
      "source": [
        "Affichage des récompenses au cours de l'entrainement"
      ]
    },
    {
      "cell_type": "code",
      "execution_count": null,
      "metadata": {
        "id": "-xM8JUCgGEn2"
      },
      "outputs": [],
      "source": [
        "plt.figure(figsize=(10, 6))\n",
        "plt.plot(range(len(episode_reward)), episode_reward, label=\"Reward par épisode\")\n",
        "plt.xlabel(\"Épisodes\")\n",
        "plt.ylabel(\"Récompense totale\")\n",
        "plt.title(\"Évolution de la récompense au fil des épisodes\")\n",
        "plt.legend()\n",
        "plt.grid()\n",
        "plt.show()"
      ]
    },
    {
      "cell_type": "markdown",
      "metadata": {
        "id": "pyMhwacSATNM"
      },
      "source": [
        "Test du modèle sur plusieurs épisodes"
      ]
    },
    {
      "cell_type": "code",
      "execution_count": null,
      "metadata": {
        "id": "S5RlZhmk_kfT"
      },
      "outputs": [],
      "source": [
        "episode_rewards = []\n",
        "\n",
        "for episode in range(10):\n",
        "    state, _ = env.reset()\n",
        "    frame = env.render()\n",
        "    frame = transform(frame).squeeze()\n",
        "    frame = stack_frames(frame, is_new_episode=True)\n",
        "    frame = torch.tensor(frame, dtype=torch.float32).to(device)\n",
        "    done = False\n",
        "    total_reward = 0\n",
        "\n",
        "    while not done:\n",
        "        with torch.no_grad():\n",
        "            action = policy_cnn(frame.unsqueeze(0)).argmax().item()\n",
        "        next_state, reward, terminated, truncated, _ = env.step(action)\n",
        "        done = terminated or truncated\n",
        "        state = torch.tensor(next_state, dtype=torch.float32).to(device)\n",
        "        total_reward += reward\n",
        "        env.render()\n",
        "\n",
        "    env.close()\n",
        "\n",
        "    episode_rewards.append(total_reward)\n",
        "\n",
        "plt.plot(episode_rewards)\n",
        "plt.title(\"Récompenses par épisode\")\n",
        "plt.xlabel(\"Épisodes\")\n",
        "plt.ylabel(\"Récompense totale\")\n",
        "plt.show()\n",
        "print(episode_rewards)"
      ]
    },
    {
      "cell_type": "markdown",
      "metadata": {
        "id": "VCCZjIcTAZbE"
      },
      "source": [
        "Enregistrement d'une vidéo pour observer le comportement du modèle"
      ]
    },
    {
      "cell_type": "code",
      "execution_count": null,
      "metadata": {
        "collapsed": true,
        "id": "xiBPOhLkAZbF"
      },
      "outputs": [],
      "source": [
        "import imageio\n",
        "\n",
        "frames = []\n",
        "\n",
        "state, _ = env.reset()\n",
        "frame = env.render()\n",
        "frame = transform(frame).squeeze()\n",
        "frame = stack_frames(frame, is_new_episode=True)\n",
        "frame = torch.tensor(frame, dtype=torch.float32).to(device)\n",
        "done = False\n",
        "total_reward = 0\n",
        "\n",
        "while not done:\n",
        "    with torch.no_grad():\n",
        "        action = policy_cnn(frame.unsqueeze(0)).argmax().item()\n",
        "    next_state, reward, terminated, truncated, _ = env.step(action)\n",
        "    done = terminated or truncated\n",
        "    state = torch.tensor(next_state, dtype=torch.float32).to(device)\n",
        "\n",
        "    frames.append(env.render())\n",
        "    total_reward += reward\n",
        "\n",
        "env.close()\n",
        "print(total_reward)\n",
        "video_filename = \"test_run.mp4\"\n",
        "imageio.mimsave(video_filename, frames, fps=30)"
      ]
    }
  ],
  "metadata": {
    "accelerator": "GPU",
    "colab": {
      "gpuType": "T4",
      "provenance": []
    },
    "kernelspec": {
      "display_name": "Python 3",
      "name": "python3"
    },
    "language_info": {
      "name": "python"
    }
  },
  "nbformat": 4,
  "nbformat_minor": 0
}